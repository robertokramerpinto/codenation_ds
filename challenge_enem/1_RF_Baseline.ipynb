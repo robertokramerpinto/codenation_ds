{
 "cells": [
  {
   "cell_type": "code",
   "execution_count": 76,
   "metadata": {
    "ExecuteTime": {
     "end_time": "2020-05-26T19:27:43.858391Z",
     "start_time": "2020-05-26T19:27:43.826684Z"
    }
   },
   "outputs": [],
   "source": [
    "import pandas as pd\n",
    "import numpy as np"
   ]
  },
  {
   "cell_type": "code",
   "execution_count": 77,
   "metadata": {
    "ExecuteTime": {
     "end_time": "2020-05-26T19:27:44.268523Z",
     "start_time": "2020-05-26T19:27:44.238037Z"
    }
   },
   "outputs": [],
   "source": [
    "from settings import INITIAL_FEATURES, TARGET\n",
    "from settings import CATEGORICAL_COLS, NUMERICAL_COLS, SELECTED_FEATURES\n",
    "\n",
    "from sklearn.pipeline import Pipeline\n",
    "from transformers import *"
   ]
  },
  {
   "cell_type": "markdown",
   "metadata": {},
   "source": [
    "<div style=\"background-color:#ddeedd;padding:20px;\">\n",
    "<h2> Config </h2>\n",
    "</div>"
   ]
  },
  {
   "cell_type": "code",
   "execution_count": 78,
   "metadata": {
    "ExecuteTime": {
     "end_time": "2020-05-26T19:27:45.500449Z",
     "start_time": "2020-05-26T19:27:45.470648Z"
    }
   },
   "outputs": [],
   "source": [
    "input_data_path = './data/input/'\n",
    "train_raw_filename = 'train.csv'\n",
    "test_raw_filename = 'test.csv'\n",
    "\n",
    "SEED = 42"
   ]
  },
  {
   "cell_type": "markdown",
   "metadata": {},
   "source": [
    "<div style=\"background-color:#ddeedd;padding:20px;\">\n",
    "<h2> Preprocessing Raw Data </h2>\n",
    "</div>"
   ]
  },
  {
   "cell_type": "code",
   "execution_count": 79,
   "metadata": {
    "ExecuteTime": {
     "end_time": "2020-05-26T19:27:52.697513Z",
     "start_time": "2020-05-26T19:27:52.425338Z"
    }
   },
   "outputs": [],
   "source": [
    "train = pd.read_csv(input_data_path+train_raw_filename)\n",
    "test = pd.read_csv(input_data_path+test_raw_filename)"
   ]
  },
  {
   "cell_type": "code",
   "execution_count": 80,
   "metadata": {
    "ExecuteTime": {
     "end_time": "2020-05-26T19:28:36.374335Z",
     "start_time": "2020-05-26T19:28:36.321350Z"
    }
   },
   "outputs": [],
   "source": [
    "train = train[pd.isnull(train[TARGET])==False]\n",
    "X = train[SELECTED_FEATURES]\n",
    "y = train[TARGET]"
   ]
  },
  {
   "cell_type": "markdown",
   "metadata": {},
   "source": [
    "__Pipeline__"
   ]
  },
  {
   "cell_type": "code",
   "execution_count": 81,
   "metadata": {
    "ExecuteTime": {
     "end_time": "2020-05-26T19:28:37.456665Z",
     "start_time": "2020-05-26T19:28:37.424357Z"
    }
   },
   "outputs": [],
   "source": [
    "pp_pipe = Pipeline([\n",
    "    (\"1. Treat New Labels\", TreatNewLabels(variables = CATEGORICAL_COLS)),\n",
    "    (\"2. Missing Numerical\", NumericalNAImputerValue(variables=NUMERICAL_COLS,value=-99,add_column=False)),\n",
    "    (\"3. Missing Categorical\",CategoricalMostFrequentImputer(variables=CATEGORICAL_COLS,add_column=False)),\n",
    "    #(\"4. Numerical Transformations\",PowerTransformations(variables=NUMERICAL_COLS)),\n",
    "    (\"5. Cat Encod - Target Mean\",CategoricalTargetEncoder(variables = CATEGORICAL_COLS)),\n",
    "    #(\"5. OHE Cat Enc\", CategoricalEncoderOHE()),\n",
    "    (\"6. Scaling\",AdjustedScaler())\n",
    "])"
   ]
  },
  {
   "cell_type": "code",
   "execution_count": 82,
   "metadata": {
    "ExecuteTime": {
     "end_time": "2020-05-26T19:28:38.256355Z",
     "start_time": "2020-05-26T19:28:37.802352Z"
    }
   },
   "outputs": [],
   "source": [
    "pp_pipe.fit(X,y)\n",
    "X_train = pp_pipe.transform(X)"
   ]
  },
  {
   "cell_type": "code",
   "execution_count": 83,
   "metadata": {
    "ExecuteTime": {
     "end_time": "2020-05-26T19:28:38.491117Z",
     "start_time": "2020-05-26T19:28:38.450097Z"
    }
   },
   "outputs": [
    {
     "name": "stdout",
     "output_type": "stream",
     "text": [
      "<class 'pandas.core.frame.DataFrame'>\n",
      "RangeIndex: 10133 entries, 0 to 10132\n",
      "Data columns (total 45 columns):\n",
      " #   Column                  Non-Null Count  Dtype  \n",
      "---  ------                  --------------  -----  \n",
      " 0   SG_UF_RESIDENCIA        10133 non-null  float64\n",
      " 1   TP_SEXO                 10133 non-null  float64\n",
      " 2   TP_COR_RACA             10133 non-null  float64\n",
      " 3   TP_NACIONALIDADE        10133 non-null  float64\n",
      " 4   TP_ESCOLA               10133 non-null  float64\n",
      " 5   TP_ENSINO               10133 non-null  float64\n",
      " 6   IN_TREINEIRO            10133 non-null  float64\n",
      " 7   TP_DEPENDENCIA_ADM_ESC  10133 non-null  float64\n",
      " 8   TP_PRESENCA_CN          10133 non-null  float64\n",
      " 9   TP_PRESENCA_CH          10133 non-null  float64\n",
      " 10  TP_PRESENCA_LC          10133 non-null  float64\n",
      " 11  CO_PROVA_CN             10133 non-null  float64\n",
      " 12  CO_PROVA_CH             10133 non-null  float64\n",
      " 13  CO_PROVA_LC             10133 non-null  float64\n",
      " 14  CO_PROVA_MT             10133 non-null  float64\n",
      " 15  TP_STATUS_REDACAO       10133 non-null  float64\n",
      " 16  Q001                    10133 non-null  float64\n",
      " 17  Q002                    10133 non-null  float64\n",
      " 18  Q006                    10133 non-null  float64\n",
      " 19  Q024                    10133 non-null  float64\n",
      " 20  Q025                    10133 non-null  float64\n",
      " 21  Q026                    10133 non-null  float64\n",
      " 22  Q027                    10133 non-null  float64\n",
      " 23  Q047                    10133 non-null  float64\n",
      " 24  NU_IDADE                10133 non-null  float64\n",
      " 25  TP_ST_CONCLUSAO         10133 non-null  float64\n",
      " 26  TP_ANO_CONCLUIU         10133 non-null  float64\n",
      " 27  IN_BAIXA_VISAO          10133 non-null  float64\n",
      " 28  IN_CEGUEIRA             10133 non-null  float64\n",
      " 29  IN_SURDEZ               10133 non-null  float64\n",
      " 30  IN_DISLEXIA             10133 non-null  float64\n",
      " 31  IN_DISCALCULIA          10133 non-null  float64\n",
      " 32  IN_SABATISTA            10133 non-null  float64\n",
      " 33  IN_GESTANTE             10133 non-null  float64\n",
      " 34  IN_IDOSO                10133 non-null  float64\n",
      " 35  NU_NOTA_CN              10133 non-null  float64\n",
      " 36  NU_NOTA_CH              10133 non-null  float64\n",
      " 37  NU_NOTA_LC              10133 non-null  float64\n",
      " 38  TP_LINGUA               10133 non-null  float64\n",
      " 39  NU_NOTA_COMP1           10133 non-null  float64\n",
      " 40  NU_NOTA_COMP2           10133 non-null  float64\n",
      " 41  NU_NOTA_COMP3           10133 non-null  float64\n",
      " 42  NU_NOTA_COMP4           10133 non-null  float64\n",
      " 43  NU_NOTA_COMP5           10133 non-null  float64\n",
      " 44  NU_NOTA_REDACAO         10133 non-null  float64\n",
      "dtypes: float64(45)\n",
      "memory usage: 3.5 MB\n"
     ]
    }
   ],
   "source": [
    "X_train.info()"
   ]
  },
  {
   "cell_type": "code",
   "execution_count": 103,
   "metadata": {
    "ExecuteTime": {
     "end_time": "2020-05-26T19:50:03.094850Z",
     "start_time": "2020-05-26T19:50:02.978497Z"
    }
   },
   "outputs": [],
   "source": [
    "X_test = pp_pipe.transform(test[SELECTED_FEATURES])"
   ]
  },
  {
   "cell_type": "markdown",
   "metadata": {},
   "source": [
    "# GridSearch CV"
   ]
  },
  {
   "cell_type": "code",
   "execution_count": 99,
   "metadata": {
    "ExecuteTime": {
     "end_time": "2020-05-26T19:47:45.401846Z",
     "start_time": "2020-05-26T19:40:59.821036Z"
    }
   },
   "outputs": [
    {
     "name": "stderr",
     "output_type": "stream",
     "text": [
      "/Users/Shared/anaconda3/lib/python3.7/site-packages/sklearn/model_selection/_split.py:296: FutureWarning: Setting a random_state has no effect since shuffle is False. This will raise an error in 0.24. You should leave random_state to its default (None), or set shuffle=True.\n",
      "  FutureWarning\n",
      "[Parallel(n_jobs=-1)]: Using backend LokyBackend with 12 concurrent workers.\n"
     ]
    },
    {
     "name": "stdout",
     "output_type": "stream",
     "text": [
      "Fitting 5 folds for each of 27 candidates, totalling 135 fits\n"
     ]
    },
    {
     "name": "stderr",
     "output_type": "stream",
     "text": [
      "[Parallel(n_jobs=-1)]: Done  17 tasks      | elapsed:   30.5s\n",
      "[Parallel(n_jobs=-1)]: Done 135 out of 135 | elapsed:  6.4min finished\n"
     ]
    },
    {
     "data": {
      "text/plain": [
       "GridSearchCV(cv=KFold(n_splits=5, random_state=42, shuffle=False),\n",
       "             error_score=nan,\n",
       "             estimator=RandomForestRegressor(bootstrap=True, ccp_alpha=0.0,\n",
       "                                             criterion='mse', max_depth=None,\n",
       "                                             max_features='auto',\n",
       "                                             max_leaf_nodes=None,\n",
       "                                             max_samples=None,\n",
       "                                             min_impurity_decrease=0.0,\n",
       "                                             min_impurity_split=None,\n",
       "                                             min_samples_leaf=1,\n",
       "                                             min_samples_split=2,\n",
       "                                             min_weight_fraction_leaf=0.0,\n",
       "                                             n_estimators=100, n_jobs=None,\n",
       "                                             oob_score=False, random_state=42,\n",
       "                                             verbose=0, warm_start=False),\n",
       "             iid='deprecated', n_jobs=-1,\n",
       "             param_grid={'max_depth': [7, 10, 12],\n",
       "                         'min_samples_split': [2, 4, 6],\n",
       "                         'n_estimators': [300, 400, 500],\n",
       "                         'random_state': [42]},\n",
       "             pre_dispatch='2*n_jobs', refit=True, return_train_score=False,\n",
       "             scoring='neg_root_mean_squared_error', verbose=2)"
      ]
     },
     "execution_count": 99,
     "metadata": {},
     "output_type": "execute_result"
    }
   ],
   "source": [
    "from sklearn.ensemble import RandomForestRegressor\n",
    "from sklearn.model_selection import KFold\n",
    "from sklearn.model_selection import GridSearchCV\n",
    "\n",
    "# Initiating the Model\n",
    "model = RandomForestRegressor(random_state=SEED)\n",
    "# Defining the CV approach to control reproducibility\n",
    "cv = KFold(5, random_state=SEED)\n",
    "\n",
    "# Defining the Hyperparameters grid\n",
    "grid_parameters = {\n",
    "    \"n_estimators\":[300,400,500],\n",
    "    \"max_depth\":[7,10,12],\n",
    "    \"min_samples_split\":[2,4,6],\n",
    "    \"random_state\":[SEED]}\n",
    "\n",
    "# Initiating the Grid Search Object\n",
    "grid = GridSearchCV(estimator=model,scoring='neg_root_mean_squared_error',\n",
    "                    param_grid=grid_parameters,\n",
    "                    cv = cv,verbose=2,\n",
    "                    n_jobs= -1)\n",
    "                    \n",
    "# Train gridsearch \n",
    "grid.fit(X_train, y)"
   ]
  },
  {
   "cell_type": "code",
   "execution_count": null,
   "metadata": {},
   "outputs": [],
   "source": []
  },
  {
   "cell_type": "code",
   "execution_count": 100,
   "metadata": {
    "ExecuteTime": {
     "end_time": "2020-05-26T19:49:40.303186Z",
     "start_time": "2020-05-26T19:49:40.270565Z"
    }
   },
   "outputs": [
    {
     "data": {
      "text/plain": [
       "RandomForestRegressor(bootstrap=True, ccp_alpha=0.0, criterion='mse',\n",
       "                      max_depth=10, max_features='auto', max_leaf_nodes=None,\n",
       "                      max_samples=None, min_impurity_decrease=0.0,\n",
       "                      min_impurity_split=None, min_samples_leaf=1,\n",
       "                      min_samples_split=2, min_weight_fraction_leaf=0.0,\n",
       "                      n_estimators=400, n_jobs=None, oob_score=False,\n",
       "                      random_state=42, verbose=0, warm_start=False)"
      ]
     },
     "execution_count": 100,
     "metadata": {},
     "output_type": "execute_result"
    }
   ],
   "source": [
    "# best estimator \n",
    "grid.best_estimator_"
   ]
  },
  {
   "cell_type": "code",
   "execution_count": 101,
   "metadata": {
    "ExecuteTime": {
     "end_time": "2020-05-26T19:49:41.322142Z",
     "start_time": "2020-05-26T19:49:41.290169Z"
    }
   },
   "outputs": [
    {
     "data": {
      "text/plain": [
       "-72.58168578242275"
      ]
     },
     "execution_count": 101,
     "metadata": {},
     "output_type": "execute_result"
    }
   ],
   "source": [
    "# best score --> avg CV score for best model\n",
    "grid.best_score_"
   ]
  },
  {
   "cell_type": "code",
   "execution_count": 102,
   "metadata": {
    "ExecuteTime": {
     "end_time": "2020-05-26T19:49:43.146549Z",
     "start_time": "2020-05-26T19:49:43.115095Z"
    }
   },
   "outputs": [
    {
     "data": {
      "text/plain": [
       "{'max_depth': 10,\n",
       " 'min_samples_split': 2,\n",
       " 'n_estimators': 400,\n",
       " 'random_state': 42}"
      ]
     },
     "execution_count": 102,
     "metadata": {},
     "output_type": "execute_result"
    }
   ],
   "source": [
    "# best parameters → from best model\n",
    "grid.best_params_"
   ]
  },
  {
   "cell_type": "markdown",
   "metadata": {},
   "source": [
    "# Test Prediction"
   ]
  },
  {
   "cell_type": "code",
   "execution_count": 104,
   "metadata": {
    "ExecuteTime": {
     "end_time": "2020-05-26T19:50:54.632169Z",
     "start_time": "2020-05-26T19:50:39.675802Z"
    }
   },
   "outputs": [
    {
     "data": {
      "text/plain": [
       "RandomForestRegressor(bootstrap=True, ccp_alpha=0.0, criterion='mse',\n",
       "                      max_depth=10, max_features='auto', max_leaf_nodes=None,\n",
       "                      max_samples=None, min_impurity_decrease=0.0,\n",
       "                      min_impurity_split=None, min_samples_leaf=1,\n",
       "                      min_samples_split=2, min_weight_fraction_leaf=0.0,\n",
       "                      n_estimators=400, n_jobs=None, oob_score=False,\n",
       "                      random_state=42, verbose=0, warm_start=False)"
      ]
     },
     "execution_count": 104,
     "metadata": {},
     "output_type": "execute_result"
    }
   ],
   "source": [
    "final_model = grid.best_estimator_\n",
    "final_model.fit(X_train,y)"
   ]
  },
  {
   "cell_type": "code",
   "execution_count": 105,
   "metadata": {
    "ExecuteTime": {
     "end_time": "2020-05-26T19:50:56.042905Z",
     "start_time": "2020-05-26T19:50:55.878474Z"
    }
   },
   "outputs": [
    {
     "data": {
      "text/plain": [
       "array([429.14031018, 442.94655832, 592.91195371, ..., 674.09753155,\n",
       "       456.3453116 ,   3.11021343])"
      ]
     },
     "execution_count": 105,
     "metadata": {},
     "output_type": "execute_result"
    }
   ],
   "source": [
    "test_predictions = final_model.predict(X_test)\n",
    "test_predictions"
   ]
  },
  {
   "cell_type": "markdown",
   "metadata": {},
   "source": [
    "__Creating Submission File__"
   ]
  },
  {
   "cell_type": "code",
   "execution_count": 106,
   "metadata": {
    "ExecuteTime": {
     "end_time": "2020-05-26T19:52:45.256465Z",
     "start_time": "2020-05-26T19:52:45.224601Z"
    }
   },
   "outputs": [],
   "source": [
    "sub_file = test[['NU_INSCRICAO']].copy()"
   ]
  },
  {
   "cell_type": "code",
   "execution_count": 110,
   "metadata": {
    "ExecuteTime": {
     "end_time": "2020-05-26T19:53:52.160944Z",
     "start_time": "2020-05-26T19:53:52.125264Z"
    }
   },
   "outputs": [],
   "source": [
    "sub_file['NU_NOTA_MT'] = test_predictions\n",
    "sub_file['NU_NOTA_MT'] = sub_file['NU_NOTA_MT'].apply(lambda x: round(x,1))"
   ]
  },
  {
   "cell_type": "code",
   "execution_count": 112,
   "metadata": {
    "ExecuteTime": {
     "end_time": "2020-05-26T19:54:10.760097Z",
     "start_time": "2020-05-26T19:54:10.725032Z"
    }
   },
   "outputs": [
    {
     "data": {
      "text/html": [
       "<div>\n",
       "<style scoped>\n",
       "    .dataframe tbody tr th:only-of-type {\n",
       "        vertical-align: middle;\n",
       "    }\n",
       "\n",
       "    .dataframe tbody tr th {\n",
       "        vertical-align: top;\n",
       "    }\n",
       "\n",
       "    .dataframe thead th {\n",
       "        text-align: right;\n",
       "    }\n",
       "</style>\n",
       "<table border=\"1\" class=\"dataframe\">\n",
       "  <thead>\n",
       "    <tr style=\"text-align: right;\">\n",
       "      <th></th>\n",
       "      <th>NU_INSCRICAO</th>\n",
       "      <th>NU_NOTA_MT</th>\n",
       "    </tr>\n",
       "  </thead>\n",
       "  <tbody>\n",
       "    <tr>\n",
       "      <th>0</th>\n",
       "      <td>73ff9fcc02f0a99919906c942c2e1a1042cdcf98</td>\n",
       "      <td>429.1</td>\n",
       "    </tr>\n",
       "    <tr>\n",
       "      <th>1</th>\n",
       "      <td>71a95f9f1b91a82c65ad94abbdf9f54e6066f968</td>\n",
       "      <td>442.9</td>\n",
       "    </tr>\n",
       "    <tr>\n",
       "      <th>2</th>\n",
       "      <td>b38a03232f43b11c9d0788abaf060f7366053b6d</td>\n",
       "      <td>592.9</td>\n",
       "    </tr>\n",
       "    <tr>\n",
       "      <th>3</th>\n",
       "      <td>70b682d9a3636be23f6120fa9d6b164eb3c6002d</td>\n",
       "      <td>2.4</td>\n",
       "    </tr>\n",
       "    <tr>\n",
       "      <th>4</th>\n",
       "      <td>715494628a50142ce8cb17191cfe6d0f3cae0934</td>\n",
       "      <td>538.6</td>\n",
       "    </tr>\n",
       "  </tbody>\n",
       "</table>\n",
       "</div>"
      ],
      "text/plain": [
       "                               NU_INSCRICAO  NU_NOTA_MT\n",
       "0  73ff9fcc02f0a99919906c942c2e1a1042cdcf98       429.1\n",
       "1  71a95f9f1b91a82c65ad94abbdf9f54e6066f968       442.9\n",
       "2  b38a03232f43b11c9d0788abaf060f7366053b6d       592.9\n",
       "3  70b682d9a3636be23f6120fa9d6b164eb3c6002d         2.4\n",
       "4  715494628a50142ce8cb17191cfe6d0f3cae0934       538.6"
      ]
     },
     "execution_count": 112,
     "metadata": {},
     "output_type": "execute_result"
    }
   ],
   "source": [
    "sub_file.head()"
   ]
  },
  {
   "cell_type": "code",
   "execution_count": 114,
   "metadata": {
    "ExecuteTime": {
     "end_time": "2020-05-26T19:54:47.003079Z",
     "start_time": "2020-05-26T19:54:46.955379Z"
    }
   },
   "outputs": [],
   "source": [
    "sub_file.to_csv('answer.csv',index=False)"
   ]
  },
  {
   "cell_type": "markdown",
   "metadata": {},
   "source": [
    "## XGBoost"
   ]
  },
  {
   "cell_type": "code",
   "execution_count": 133,
   "metadata": {
    "ExecuteTime": {
     "end_time": "2020-05-26T20:58:37.466409Z",
     "start_time": "2020-05-26T20:55:22.640958Z"
    }
   },
   "outputs": [
    {
     "name": "stderr",
     "output_type": "stream",
     "text": [
      "/Users/Shared/anaconda3/lib/python3.7/site-packages/sklearn/model_selection/_split.py:296: FutureWarning: Setting a random_state has no effect since shuffle is False. This will raise an error in 0.24. You should leave random_state to its default (None), or set shuffle=True.\n",
      "  FutureWarning\n",
      "[Parallel(n_jobs=-1)]: Using backend LokyBackend with 12 concurrent workers.\n"
     ]
    },
    {
     "name": "stdout",
     "output_type": "stream",
     "text": [
      "Fitting 5 folds for each of 54 candidates, totalling 270 fits\n"
     ]
    },
    {
     "name": "stderr",
     "output_type": "stream",
     "text": [
      "[Parallel(n_jobs=-1)]: Done  17 tasks      | elapsed:    7.0s\n",
      "[Parallel(n_jobs=-1)]: Done 138 tasks      | elapsed:  1.3min\n",
      "[Parallel(n_jobs=-1)]: Done 270 out of 270 | elapsed:  3.2min finished\n"
     ]
    },
    {
     "data": {
      "text/plain": [
       "GridSearchCV(cv=KFold(n_splits=5, random_state=42, shuffle=False),\n",
       "             error_score=nan,\n",
       "             estimator=XGBRegressor(base_score=None, booster=None,\n",
       "                                    colsample_bylevel=None,\n",
       "                                    colsample_bynode=None,\n",
       "                                    colsample_bytree=None, gamma=None,\n",
       "                                    gpu_id=None, importance_type='gain',\n",
       "                                    interaction_constraints=None,\n",
       "                                    learning_rate=None, max_delta_step=None,\n",
       "                                    max_depth=None, min_child_weight=None,...\n",
       "                                    validate_parameters=False, verbosity=None),\n",
       "             iid='deprecated', n_jobs=-1,\n",
       "             param_grid={'colsample_bytree': [0.7, 0.8, 1],\n",
       "                         'learning_rate': [0.07, 0.05], 'max_depth': [5, 7, 10],\n",
       "                         'n_estimators': [100, 150, 200],\n",
       "                         'objective': ['reg:squarederror'],\n",
       "                         'random_state': [42], 'subsample': [1]},\n",
       "             pre_dispatch='2*n_jobs', refit=True, return_train_score=False,\n",
       "             scoring='neg_root_mean_squared_error', verbose=2)"
      ]
     },
     "execution_count": 133,
     "metadata": {},
     "output_type": "execute_result"
    }
   ],
   "source": [
    "from xgboost import XGBRegressor\n",
    "from sklearn.ensemble import RandomForestRegressor\n",
    "from sklearn.model_selection import KFold\n",
    "from sklearn.model_selection import GridSearchCV\n",
    "\n",
    "# Initiating the Model\n",
    "model = XGBRegressor(random_state=SEED)\n",
    "# Defining the CV approach to control reproducibility\n",
    "cv = KFold(5, random_state=SEED)\n",
    "\n",
    "# Defining the Hyperparameters grid\n",
    "grid_parameters = {\n",
    "    \"learning_rate\":[0.07,0.05],\n",
    "    \"max_depth\":[5,7,10],\n",
    "    \"n_estimators\":[100,150,200], \n",
    "     \"objective\":['reg:squarederror'], \n",
    "    #'min_child_weight': 1,\n",
    "    'subsample': [1],\n",
    "    'colsample_bytree': [0.7,0.8,1],\n",
    "    \"random_state\":[SEED]\n",
    "}\n",
    "\n",
    "\n",
    "# Initiating the Grid Search Object\n",
    "grid = GridSearchCV(estimator=model,scoring='neg_root_mean_squared_error',\n",
    "                    param_grid=grid_parameters,\n",
    "                    cv = cv,verbose=2,\n",
    "                    n_jobs= -1)\n",
    "                    \n",
    "# Train gridsearch \n",
    "grid.fit(X_train, y)\n"
   ]
  },
  {
   "cell_type": "code",
   "execution_count": 134,
   "metadata": {
    "ExecuteTime": {
     "end_time": "2020-05-26T20:58:37.532041Z",
     "start_time": "2020-05-26T20:58:37.469666Z"
    }
   },
   "outputs": [
    {
     "data": {
      "text/plain": [
       "{'colsample_bytree': 0.7,\n",
       " 'learning_rate': 0.07,\n",
       " 'max_depth': 5,\n",
       " 'n_estimators': 100,\n",
       " 'objective': 'reg:squarederror',\n",
       " 'random_state': 42,\n",
       " 'subsample': 1}"
      ]
     },
     "execution_count": 134,
     "metadata": {},
     "output_type": "execute_result"
    }
   ],
   "source": [
    "# best parameters → from best model\n",
    "grid.best_params_"
   ]
  },
  {
   "cell_type": "code",
   "execution_count": 135,
   "metadata": {
    "ExecuteTime": {
     "end_time": "2020-05-26T20:58:37.595970Z",
     "start_time": "2020-05-26T20:58:37.535437Z"
    }
   },
   "outputs": [
    {
     "data": {
      "text/plain": [
       "-72.00957310669064"
      ]
     },
     "execution_count": 135,
     "metadata": {},
     "output_type": "execute_result"
    }
   ],
   "source": [
    "# best score --> avg CV score for best model\n",
    "grid.best_score_"
   ]
  },
  {
   "cell_type": "markdown",
   "metadata": {},
   "source": [
    "__Predictions__"
   ]
  },
  {
   "cell_type": "code",
   "execution_count": 136,
   "metadata": {
    "ExecuteTime": {
     "end_time": "2020-05-26T20:58:42.519557Z",
     "start_time": "2020-05-26T20:58:41.997015Z"
    }
   },
   "outputs": [
    {
     "data": {
      "text/plain": [
       "XGBRegressor(base_score=0.5, booster=None, colsample_bylevel=1,\n",
       "             colsample_bynode=1, colsample_bytree=0.7, gamma=0, gpu_id=-1,\n",
       "             importance_type='gain', interaction_constraints=None,\n",
       "             learning_rate=0.07, max_delta_step=0, max_depth=5,\n",
       "             min_child_weight=1, missing=nan, monotone_constraints=None,\n",
       "             n_estimators=100, n_jobs=0, num_parallel_tree=1,\n",
       "             objective='reg:squarederror', random_state=42, reg_alpha=0,\n",
       "             reg_lambda=1, scale_pos_weight=1, subsample=1, tree_method=None,\n",
       "             validate_parameters=False, verbosity=None)"
      ]
     },
     "execution_count": 136,
     "metadata": {},
     "output_type": "execute_result"
    }
   ],
   "source": [
    "final_model = grid.best_estimator_\n",
    "final_model.fit(X_train,y)"
   ]
  },
  {
   "cell_type": "code",
   "execution_count": 137,
   "metadata": {
    "ExecuteTime": {
     "end_time": "2020-05-26T20:58:42.579458Z",
     "start_time": "2020-05-26T20:58:42.521970Z"
    }
   },
   "outputs": [
    {
     "data": {
      "text/plain": [
       "array([437.4405  , 442.75388 , 587.1726  , ..., 666.36414 , 444.7955  ,\n",
       "        53.711155], dtype=float32)"
      ]
     },
     "execution_count": 137,
     "metadata": {},
     "output_type": "execute_result"
    }
   ],
   "source": [
    "test_predictions = final_model.predict(X_test)\n",
    "test_predictions"
   ]
  },
  {
   "cell_type": "code",
   "execution_count": 138,
   "metadata": {
    "ExecuteTime": {
     "end_time": "2020-05-26T20:58:43.364948Z",
     "start_time": "2020-05-26T20:58:43.310036Z"
    }
   },
   "outputs": [],
   "source": [
    "sub_file = test[['NU_INSCRICAO']].copy()\n",
    "sub_file['NU_NOTA_MT'] = test_predictions\n",
    "sub_file.to_csv('answer.csv',index=False)"
   ]
  },
  {
   "cell_type": "code",
   "execution_count": null,
   "metadata": {},
   "outputs": [],
   "source": []
  }
 ],
 "metadata": {
  "kernelspec": {
   "display_name": "Python 3.7.3 64-bit ('base': conda)",
   "language": "python",
   "name": "python37364bitbaseconda95ecdeae6d2949459d5acea5c79cf8a8"
  },
  "language_info": {
   "codemirror_mode": {
    "name": "ipython",
    "version": 3
   },
   "file_extension": ".py",
   "mimetype": "text/x-python",
   "name": "python",
   "nbconvert_exporter": "python",
   "pygments_lexer": "ipython3",
   "version": "3.7.6"
  }
 },
 "nbformat": 4,
 "nbformat_minor": 4
}
