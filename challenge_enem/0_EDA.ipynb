{
 "cells": [
  {
   "cell_type": "markdown",
   "metadata": {},
   "source": [
    "<div style=\"background-color:green;color:white;padding:20px;\">\n",
    "<h1> Enem Regression - Exploratory Data Analysis </h1>\n",
    "</div>"
   ]
  },
  {
   "cell_type": "code",
   "execution_count": 1,
   "metadata": {
    "ExecuteTime": {
     "end_time": "2020-05-26T17:39:22.124057Z",
     "start_time": "2020-05-26T17:39:19.970968Z"
    }
   },
   "outputs": [],
   "source": [
    "import pandas as pd\n",
    "import numpy as np\n",
    "import matplotlib.pyplot as plt\n",
    "import seaborn as sns\n",
    "%matplotlib inline \n",
    "sns.set()"
   ]
  },
  {
   "cell_type": "markdown",
   "metadata": {},
   "source": [
    "<div style=\"background-color:#ddeedd;padding:20px;\">\n",
    "<h2> Config </h2>\n",
    "</div>"
   ]
  },
  {
   "cell_type": "code",
   "execution_count": 13,
   "metadata": {
    "ExecuteTime": {
     "end_time": "2020-05-26T17:49:30.223309Z",
     "start_time": "2020-05-26T17:49:30.189977Z"
    }
   },
   "outputs": [],
   "source": [
    "input_data_path = './data/input/'\n",
    "train_raw_filename = 'train.csv'\n",
    "test_raw_filename = 'test.csv'\n",
    "\n",
    "SEED = 42\n",
    "\n",
    "target = 'NU_NOTA_MT'"
   ]
  },
  {
   "cell_type": "markdown",
   "metadata": {},
   "source": [
    "<div style=\"background-color:#ddeedd;padding:20px;\">\n",
    "<h2> Loading Data </h2>\n",
    "</div>"
   ]
  },
  {
   "cell_type": "markdown",
   "metadata": {},
   "source": [
    "__Train Data__"
   ]
  },
  {
   "cell_type": "code",
   "execution_count": 10,
   "metadata": {
    "ExecuteTime": {
     "end_time": "2020-05-26T17:48:53.455937Z",
     "start_time": "2020-05-26T17:48:53.190660Z"
    }
   },
   "outputs": [
    {
     "name": "stdout",
     "output_type": "stream",
     "text": [
      "<class 'pandas.core.frame.DataFrame'>\n",
      "RangeIndex: 13730 entries, 0 to 13729\n",
      "Columns: 167 entries, Unnamed: 0 to Q050\n",
      "dtypes: float64(28), int64(79), object(60)\n",
      "memory usage: 17.5+ MB\n"
     ]
    }
   ],
   "source": [
    "train_data = pd.read_csv(input_data_path + train_raw_filename)\n",
    "train_data.info()"
   ]
  },
  {
   "cell_type": "code",
   "execution_count": 11,
   "metadata": {
    "ExecuteTime": {
     "end_time": "2020-05-26T17:48:54.508017Z",
     "start_time": "2020-05-26T17:48:54.456774Z"
    }
   },
   "outputs": [
    {
     "data": {
      "text/html": [
       "<div>\n",
       "<style scoped>\n",
       "    .dataframe tbody tr th:only-of-type {\n",
       "        vertical-align: middle;\n",
       "    }\n",
       "\n",
       "    .dataframe tbody tr th {\n",
       "        vertical-align: top;\n",
       "    }\n",
       "\n",
       "    .dataframe thead th {\n",
       "        text-align: right;\n",
       "    }\n",
       "</style>\n",
       "<table border=\"1\" class=\"dataframe\">\n",
       "  <thead>\n",
       "    <tr style=\"text-align: right;\">\n",
       "      <th></th>\n",
       "      <th>Unnamed: 0</th>\n",
       "      <th>NU_INSCRICAO</th>\n",
       "      <th>NU_ANO</th>\n",
       "      <th>CO_MUNICIPIO_RESIDENCIA</th>\n",
       "      <th>NO_MUNICIPIO_RESIDENCIA</th>\n",
       "      <th>CO_UF_RESIDENCIA</th>\n",
       "      <th>SG_UF_RESIDENCIA</th>\n",
       "      <th>NU_IDADE</th>\n",
       "      <th>TP_SEXO</th>\n",
       "      <th>TP_ESTADO_CIVIL</th>\n",
       "      <th>...</th>\n",
       "      <th>Q041</th>\n",
       "      <th>Q042</th>\n",
       "      <th>Q043</th>\n",
       "      <th>Q044</th>\n",
       "      <th>Q045</th>\n",
       "      <th>Q046</th>\n",
       "      <th>Q047</th>\n",
       "      <th>Q048</th>\n",
       "      <th>Q049</th>\n",
       "      <th>Q050</th>\n",
       "    </tr>\n",
       "  </thead>\n",
       "  <tbody>\n",
       "    <tr>\n",
       "      <th>0</th>\n",
       "      <td>1</td>\n",
       "      <td>ed50e8aaa58e7a806c337585efee9ca41f1eb1ad</td>\n",
       "      <td>2016</td>\n",
       "      <td>4314902</td>\n",
       "      <td>Porto Alegre</td>\n",
       "      <td>43</td>\n",
       "      <td>RS</td>\n",
       "      <td>24</td>\n",
       "      <td>M</td>\n",
       "      <td>0.0</td>\n",
       "      <td>...</td>\n",
       "      <td>5.0</td>\n",
       "      <td>A</td>\n",
       "      <td>A</td>\n",
       "      <td>A</td>\n",
       "      <td>A</td>\n",
       "      <td>A</td>\n",
       "      <td>A</td>\n",
       "      <td>A</td>\n",
       "      <td>B</td>\n",
       "      <td>D</td>\n",
       "    </tr>\n",
       "    <tr>\n",
       "      <th>1</th>\n",
       "      <td>2</td>\n",
       "      <td>2c3acac4b33ec2b195d77e7c04a2d75727fad723</td>\n",
       "      <td>2016</td>\n",
       "      <td>2304707</td>\n",
       "      <td>Granja</td>\n",
       "      <td>23</td>\n",
       "      <td>CE</td>\n",
       "      <td>17</td>\n",
       "      <td>F</td>\n",
       "      <td>0.0</td>\n",
       "      <td>...</td>\n",
       "      <td>NaN</td>\n",
       "      <td>A</td>\n",
       "      <td>A</td>\n",
       "      <td>C</td>\n",
       "      <td>A</td>\n",
       "      <td>B</td>\n",
       "      <td>A</td>\n",
       "      <td>A</td>\n",
       "      <td>C</td>\n",
       "      <td>A</td>\n",
       "    </tr>\n",
       "    <tr>\n",
       "      <th>2</th>\n",
       "      <td>3</td>\n",
       "      <td>f4545f8ccb9ff5c8aad7d32951b3f251a26e6568</td>\n",
       "      <td>2016</td>\n",
       "      <td>2304400</td>\n",
       "      <td>Fortaleza</td>\n",
       "      <td>23</td>\n",
       "      <td>CE</td>\n",
       "      <td>21</td>\n",
       "      <td>F</td>\n",
       "      <td>0.0</td>\n",
       "      <td>...</td>\n",
       "      <td>NaN</td>\n",
       "      <td>A</td>\n",
       "      <td>A</td>\n",
       "      <td>A</td>\n",
       "      <td>A</td>\n",
       "      <td>C</td>\n",
       "      <td>A</td>\n",
       "      <td>A</td>\n",
       "      <td>B</td>\n",
       "      <td>A</td>\n",
       "    </tr>\n",
       "    <tr>\n",
       "      <th>3</th>\n",
       "      <td>4</td>\n",
       "      <td>3d6ec248fef899c414e77f82d5c6d2bffbeaf7fe</td>\n",
       "      <td>2016</td>\n",
       "      <td>3304557</td>\n",
       "      <td>Rio de Janeiro</td>\n",
       "      <td>33</td>\n",
       "      <td>RJ</td>\n",
       "      <td>25</td>\n",
       "      <td>F</td>\n",
       "      <td>0.0</td>\n",
       "      <td>...</td>\n",
       "      <td>5.0</td>\n",
       "      <td>C</td>\n",
       "      <td>A</td>\n",
       "      <td>A</td>\n",
       "      <td>A</td>\n",
       "      <td>A</td>\n",
       "      <td>D</td>\n",
       "      <td>A</td>\n",
       "      <td>A</td>\n",
       "      <td>A</td>\n",
       "    </tr>\n",
       "    <tr>\n",
       "      <th>4</th>\n",
       "      <td>5</td>\n",
       "      <td>bf896ac8d3ecadd6dba1dfbf50110afcbf5d3268</td>\n",
       "      <td>2016</td>\n",
       "      <td>1302603</td>\n",
       "      <td>Manaus</td>\n",
       "      <td>13</td>\n",
       "      <td>AM</td>\n",
       "      <td>28</td>\n",
       "      <td>M</td>\n",
       "      <td>0.0</td>\n",
       "      <td>...</td>\n",
       "      <td>NaN</td>\n",
       "      <td>A</td>\n",
       "      <td>A</td>\n",
       "      <td>A</td>\n",
       "      <td>A</td>\n",
       "      <td>A</td>\n",
       "      <td>A</td>\n",
       "      <td>A</td>\n",
       "      <td>A</td>\n",
       "      <td>A</td>\n",
       "    </tr>\n",
       "  </tbody>\n",
       "</table>\n",
       "<p>5 rows × 167 columns</p>\n",
       "</div>"
      ],
      "text/plain": [
       "   Unnamed: 0                              NU_INSCRICAO  NU_ANO  \\\n",
       "0           1  ed50e8aaa58e7a806c337585efee9ca41f1eb1ad    2016   \n",
       "1           2  2c3acac4b33ec2b195d77e7c04a2d75727fad723    2016   \n",
       "2           3  f4545f8ccb9ff5c8aad7d32951b3f251a26e6568    2016   \n",
       "3           4  3d6ec248fef899c414e77f82d5c6d2bffbeaf7fe    2016   \n",
       "4           5  bf896ac8d3ecadd6dba1dfbf50110afcbf5d3268    2016   \n",
       "\n",
       "   CO_MUNICIPIO_RESIDENCIA NO_MUNICIPIO_RESIDENCIA  CO_UF_RESIDENCIA  \\\n",
       "0                  4314902            Porto Alegre                43   \n",
       "1                  2304707                  Granja                23   \n",
       "2                  2304400               Fortaleza                23   \n",
       "3                  3304557          Rio de Janeiro                33   \n",
       "4                  1302603                  Manaus                13   \n",
       "\n",
       "  SG_UF_RESIDENCIA  NU_IDADE TP_SEXO  TP_ESTADO_CIVIL  ...  Q041  Q042  Q043  \\\n",
       "0               RS        24       M              0.0  ...   5.0     A     A   \n",
       "1               CE        17       F              0.0  ...   NaN     A     A   \n",
       "2               CE        21       F              0.0  ...   NaN     A     A   \n",
       "3               RJ        25       F              0.0  ...   5.0     C     A   \n",
       "4               AM        28       M              0.0  ...   NaN     A     A   \n",
       "\n",
       "  Q044  Q045 Q046  Q047  Q048  Q049  Q050  \n",
       "0    A     A    A     A     A     B     D  \n",
       "1    C     A    B     A     A     C     A  \n",
       "2    A     A    C     A     A     B     A  \n",
       "3    A     A    A     D     A     A     A  \n",
       "4    A     A    A     A     A     A     A  \n",
       "\n",
       "[5 rows x 167 columns]"
      ]
     },
     "execution_count": 11,
     "metadata": {},
     "output_type": "execute_result"
    }
   ],
   "source": [
    "train_data.head()"
   ]
  },
  {
   "cell_type": "code",
   "execution_count": 12,
   "metadata": {
    "ExecuteTime": {
     "end_time": "2020-05-26T17:49:03.814942Z",
     "start_time": "2020-05-26T17:49:03.782077Z"
    },
    "scrolled": false
   },
   "outputs": [
    {
     "name": "stdout",
     "output_type": "stream",
     "text": [
      "['Unnamed: 0', 'NU_INSCRICAO', 'NU_ANO', 'CO_MUNICIPIO_RESIDENCIA', 'NO_MUNICIPIO_RESIDENCIA', 'CO_UF_RESIDENCIA', 'SG_UF_RESIDENCIA', 'NU_IDADE', 'TP_SEXO', 'TP_ESTADO_CIVIL', 'TP_COR_RACA', 'TP_NACIONALIDADE', 'CO_MUNICIPIO_NASCIMENTO', 'NO_MUNICIPIO_NASCIMENTO', 'CO_UF_NASCIMENTO', 'SG_UF_NASCIMENTO', 'TP_ST_CONCLUSAO', 'TP_ANO_CONCLUIU', 'TP_ESCOLA', 'TP_ENSINO', 'IN_TREINEIRO', 'CO_ESCOLA', 'CO_MUNICIPIO_ESC', 'NO_MUNICIPIO_ESC', 'CO_UF_ESC', 'SG_UF_ESC', 'TP_DEPENDENCIA_ADM_ESC', 'TP_LOCALIZACAO_ESC', 'TP_SIT_FUNC_ESC', 'IN_BAIXA_VISAO', 'IN_CEGUEIRA', 'IN_SURDEZ', 'IN_DEFICIENCIA_AUDITIVA', 'IN_SURDO_CEGUEIRA', 'IN_DEFICIENCIA_FISICA', 'IN_DEFICIENCIA_MENTAL', 'IN_DEFICIT_ATENCAO', 'IN_DISLEXIA', 'IN_DISCALCULIA', 'IN_AUTISMO', 'IN_VISAO_MONOCULAR', 'IN_OUTRA_DEF', 'IN_SABATISTA', 'IN_GESTANTE', 'IN_LACTANTE', 'IN_IDOSO', 'IN_ESTUDA_CLASSE_HOSPITALAR', 'IN_SEM_RECURSO', 'IN_BRAILLE', 'IN_AMPLIADA_24', 'IN_AMPLIADA_18', 'IN_LEDOR', 'IN_ACESSO', 'IN_TRANSCRICAO', 'IN_LIBRAS', 'IN_LEITURA_LABIAL', 'IN_MESA_CADEIRA_RODAS', 'IN_MESA_CADEIRA_SEPARADA', 'IN_APOIO_PERNA', 'IN_GUIA_INTERPRETE', 'IN_MACA', 'IN_COMPUTADOR', 'IN_CADEIRA_ESPECIAL', 'IN_CADEIRA_CANHOTO', 'IN_CADEIRA_ACOLCHOADA', 'IN_PROVA_DEITADO', 'IN_MOBILIARIO_OBESO', 'IN_LAMINA_OVERLAY', 'IN_PROTETOR_AURICULAR', 'IN_MEDIDOR_GLICOSE', 'IN_MAQUINA_BRAILE', 'IN_SOROBAN', 'IN_MARCA_PASSO', 'IN_SONDA', 'IN_MEDICAMENTOS', 'IN_SALA_INDIVIDUAL', 'IN_SALA_ESPECIAL', 'IN_SALA_ACOMPANHANTE', 'IN_MOBILIARIO_ESPECIFICO', 'IN_MATERIAL_ESPECIFICO', 'IN_NOME_SOCIAL', 'IN_CERTIFICADO', 'NO_ENTIDADE_CERTIFICACAO', 'CO_UF_ENTIDADE_CERTIFICACAO', 'SG_UF_ENTIDADE_CERTIFICACAO', 'CO_MUNICIPIO_PROVA', 'NO_MUNICIPIO_PROVA', 'CO_UF_PROVA', 'SG_UF_PROVA', 'TP_PRESENCA_CN', 'TP_PRESENCA_CH', 'TP_PRESENCA_LC', 'TP_PRESENCA_MT', 'CO_PROVA_CN', 'CO_PROVA_CH', 'CO_PROVA_LC', 'CO_PROVA_MT', 'NU_NOTA_CN', 'NU_NOTA_CH', 'NU_NOTA_LC', 'NU_NOTA_MT', 'TX_RESPOSTAS_CN', 'TX_RESPOSTAS_CH', 'TX_RESPOSTAS_LC', 'TX_RESPOSTAS_MT', 'TP_LINGUA', 'TX_GABARITO_CN', 'TX_GABARITO_CH', 'TX_GABARITO_LC', 'TX_GABARITO_MT', 'TP_STATUS_REDACAO', 'NU_NOTA_COMP1', 'NU_NOTA_COMP2', 'NU_NOTA_COMP3', 'NU_NOTA_COMP4', 'NU_NOTA_COMP5', 'NU_NOTA_REDACAO', 'Q001', 'Q002', 'Q003', 'Q004', 'Q005', 'Q006', 'Q007', 'Q008', 'Q009', 'Q010', 'Q011', 'Q012', 'Q013', 'Q014', 'Q015', 'Q016', 'Q017', 'Q018', 'Q019', 'Q020', 'Q021', 'Q022', 'Q023', 'Q024', 'Q025', 'Q026', 'Q027', 'Q028', 'Q029', 'Q030', 'Q031', 'Q032', 'Q033', 'Q034', 'Q035', 'Q036', 'Q037', 'Q038', 'Q039', 'Q040', 'Q041', 'Q042', 'Q043', 'Q044', 'Q045', 'Q046', 'Q047', 'Q048', 'Q049', 'Q050']\n"
     ]
    }
   ],
   "source": [
    "print(train_data.columns.tolist())"
   ]
  },
  {
   "cell_type": "markdown",
   "metadata": {},
   "source": [
    "__Test Data__"
   ]
  },
  {
   "cell_type": "code",
   "execution_count": 15,
   "metadata": {
    "ExecuteTime": {
     "end_time": "2020-05-26T17:49:43.290108Z",
     "start_time": "2020-05-26T17:49:43.215165Z"
    }
   },
   "outputs": [
    {
     "name": "stdout",
     "output_type": "stream",
     "text": [
      "<class 'pandas.core.frame.DataFrame'>\n",
      "RangeIndex: 4576 entries, 0 to 4575\n",
      "Data columns (total 47 columns):\n",
      " #   Column                  Non-Null Count  Dtype  \n",
      "---  ------                  --------------  -----  \n",
      " 0   NU_INSCRICAO            4576 non-null   object \n",
      " 1   CO_UF_RESIDENCIA        4576 non-null   int64  \n",
      " 2   SG_UF_RESIDENCIA        4576 non-null   object \n",
      " 3   NU_IDADE                4576 non-null   int64  \n",
      " 4   TP_SEXO                 4576 non-null   object \n",
      " 5   TP_COR_RACA             4576 non-null   int64  \n",
      " 6   TP_NACIONALIDADE        4576 non-null   int64  \n",
      " 7   TP_ST_CONCLUSAO         4576 non-null   int64  \n",
      " 8   TP_ANO_CONCLUIU         4576 non-null   int64  \n",
      " 9   TP_ESCOLA               4576 non-null   int64  \n",
      " 10  TP_ENSINO               1480 non-null   float64\n",
      " 11  IN_TREINEIRO            4576 non-null   int64  \n",
      " 12  TP_DEPENDENCIA_ADM_ESC  1480 non-null   float64\n",
      " 13  IN_BAIXA_VISAO          4576 non-null   int64  \n",
      " 14  IN_CEGUEIRA             4576 non-null   int64  \n",
      " 15  IN_SURDEZ               4576 non-null   int64  \n",
      " 16  IN_DISLEXIA             4576 non-null   int64  \n",
      " 17  IN_DISCALCULIA          4576 non-null   int64  \n",
      " 18  IN_SABATISTA            4576 non-null   int64  \n",
      " 19  IN_GESTANTE             4576 non-null   int64  \n",
      " 20  IN_IDOSO                4576 non-null   int64  \n",
      " 21  TP_PRESENCA_CN          4576 non-null   int64  \n",
      " 22  TP_PRESENCA_CH          4576 non-null   int64  \n",
      " 23  TP_PRESENCA_LC          4576 non-null   int64  \n",
      " 24  CO_PROVA_CN             4576 non-null   object \n",
      " 25  CO_PROVA_CH             4576 non-null   object \n",
      " 26  CO_PROVA_LC             4576 non-null   object \n",
      " 27  CO_PROVA_MT             4576 non-null   object \n",
      " 28  NU_NOTA_CN              3442 non-null   float64\n",
      " 29  NU_NOTA_CH              3442 non-null   float64\n",
      " 30  NU_NOTA_LC              3377 non-null   float64\n",
      " 31  TP_LINGUA               4576 non-null   int64  \n",
      " 32  TP_STATUS_REDACAO       3377 non-null   float64\n",
      " 33  NU_NOTA_COMP1           3377 non-null   float64\n",
      " 34  NU_NOTA_COMP2           3377 non-null   float64\n",
      " 35  NU_NOTA_COMP3           3377 non-null   float64\n",
      " 36  NU_NOTA_COMP4           3377 non-null   float64\n",
      " 37  NU_NOTA_COMP5           3377 non-null   float64\n",
      " 38  NU_NOTA_REDACAO         3377 non-null   float64\n",
      " 39  Q001                    4576 non-null   object \n",
      " 40  Q002                    4576 non-null   object \n",
      " 41  Q006                    4576 non-null   object \n",
      " 42  Q024                    4576 non-null   object \n",
      " 43  Q025                    4576 non-null   object \n",
      " 44  Q026                    4576 non-null   object \n",
      " 45  Q027                    2088 non-null   object \n",
      " 46  Q047                    4576 non-null   object \n",
      "dtypes: float64(12), int64(20), object(15)\n",
      "memory usage: 1.6+ MB\n"
     ]
    }
   ],
   "source": [
    "test_data = pd.read_csv(input_data_path + test_raw_filename)\n",
    "test_data.info()"
   ]
  },
  {
   "cell_type": "code",
   "execution_count": 17,
   "metadata": {
    "ExecuteTime": {
     "end_time": "2020-05-26T17:50:37.017713Z",
     "start_time": "2020-05-26T17:50:36.965298Z"
    }
   },
   "outputs": [
    {
     "data": {
      "text/html": [
       "<div>\n",
       "<style scoped>\n",
       "    .dataframe tbody tr th:only-of-type {\n",
       "        vertical-align: middle;\n",
       "    }\n",
       "\n",
       "    .dataframe tbody tr th {\n",
       "        vertical-align: top;\n",
       "    }\n",
       "\n",
       "    .dataframe thead th {\n",
       "        text-align: right;\n",
       "    }\n",
       "</style>\n",
       "<table border=\"1\" class=\"dataframe\">\n",
       "  <thead>\n",
       "    <tr style=\"text-align: right;\">\n",
       "      <th></th>\n",
       "      <th>NU_INSCRICAO</th>\n",
       "      <th>CO_UF_RESIDENCIA</th>\n",
       "      <th>SG_UF_RESIDENCIA</th>\n",
       "      <th>NU_IDADE</th>\n",
       "      <th>TP_SEXO</th>\n",
       "      <th>TP_COR_RACA</th>\n",
       "      <th>TP_NACIONALIDADE</th>\n",
       "      <th>TP_ST_CONCLUSAO</th>\n",
       "      <th>TP_ANO_CONCLUIU</th>\n",
       "      <th>TP_ESCOLA</th>\n",
       "      <th>...</th>\n",
       "      <th>NU_NOTA_COMP5</th>\n",
       "      <th>NU_NOTA_REDACAO</th>\n",
       "      <th>Q001</th>\n",
       "      <th>Q002</th>\n",
       "      <th>Q006</th>\n",
       "      <th>Q024</th>\n",
       "      <th>Q025</th>\n",
       "      <th>Q026</th>\n",
       "      <th>Q027</th>\n",
       "      <th>Q047</th>\n",
       "    </tr>\n",
       "  </thead>\n",
       "  <tbody>\n",
       "    <tr>\n",
       "      <th>0</th>\n",
       "      <td>73ff9fcc02f0a99919906c942c2e1a1042cdcf98</td>\n",
       "      <td>41</td>\n",
       "      <td>PR</td>\n",
       "      <td>22</td>\n",
       "      <td>F</td>\n",
       "      <td>3</td>\n",
       "      <td>1</td>\n",
       "      <td>1</td>\n",
       "      <td>5</td>\n",
       "      <td>1</td>\n",
       "      <td>...</td>\n",
       "      <td>40.0</td>\n",
       "      <td>420.0</td>\n",
       "      <td>B</td>\n",
       "      <td>A</td>\n",
       "      <td>C</td>\n",
       "      <td>A</td>\n",
       "      <td>A</td>\n",
       "      <td>C</td>\n",
       "      <td>C</td>\n",
       "      <td>A</td>\n",
       "    </tr>\n",
       "    <tr>\n",
       "      <th>1</th>\n",
       "      <td>71a95f9f1b91a82c65ad94abbdf9f54e6066f968</td>\n",
       "      <td>21</td>\n",
       "      <td>MA</td>\n",
       "      <td>26</td>\n",
       "      <td>F</td>\n",
       "      <td>3</td>\n",
       "      <td>1</td>\n",
       "      <td>1</td>\n",
       "      <td>8</td>\n",
       "      <td>1</td>\n",
       "      <td>...</td>\n",
       "      <td>100.0</td>\n",
       "      <td>580.0</td>\n",
       "      <td>E</td>\n",
       "      <td>B</td>\n",
       "      <td>C</td>\n",
       "      <td>B</td>\n",
       "      <td>B</td>\n",
       "      <td>B</td>\n",
       "      <td>F</td>\n",
       "      <td>A</td>\n",
       "    </tr>\n",
       "    <tr>\n",
       "      <th>2</th>\n",
       "      <td>b38a03232f43b11c9d0788abaf060f7366053b6d</td>\n",
       "      <td>23</td>\n",
       "      <td>CE</td>\n",
       "      <td>21</td>\n",
       "      <td>M</td>\n",
       "      <td>1</td>\n",
       "      <td>1</td>\n",
       "      <td>2</td>\n",
       "      <td>0</td>\n",
       "      <td>2</td>\n",
       "      <td>...</td>\n",
       "      <td>80.0</td>\n",
       "      <td>320.0</td>\n",
       "      <td>E</td>\n",
       "      <td>E</td>\n",
       "      <td>D</td>\n",
       "      <td>B</td>\n",
       "      <td>B</td>\n",
       "      <td>A</td>\n",
       "      <td>NaN</td>\n",
       "      <td>A</td>\n",
       "    </tr>\n",
       "    <tr>\n",
       "      <th>3</th>\n",
       "      <td>70b682d9a3636be23f6120fa9d6b164eb3c6002d</td>\n",
       "      <td>15</td>\n",
       "      <td>PA</td>\n",
       "      <td>27</td>\n",
       "      <td>F</td>\n",
       "      <td>3</td>\n",
       "      <td>1</td>\n",
       "      <td>1</td>\n",
       "      <td>8</td>\n",
       "      <td>1</td>\n",
       "      <td>...</td>\n",
       "      <td>NaN</td>\n",
       "      <td>NaN</td>\n",
       "      <td>H</td>\n",
       "      <td>E</td>\n",
       "      <td>G</td>\n",
       "      <td>B</td>\n",
       "      <td>B</td>\n",
       "      <td>A</td>\n",
       "      <td>NaN</td>\n",
       "      <td>A</td>\n",
       "    </tr>\n",
       "    <tr>\n",
       "      <th>4</th>\n",
       "      <td>715494628a50142ce8cb17191cfe6d0f3cae0934</td>\n",
       "      <td>41</td>\n",
       "      <td>PR</td>\n",
       "      <td>18</td>\n",
       "      <td>M</td>\n",
       "      <td>1</td>\n",
       "      <td>1</td>\n",
       "      <td>2</td>\n",
       "      <td>0</td>\n",
       "      <td>2</td>\n",
       "      <td>...</td>\n",
       "      <td>0.0</td>\n",
       "      <td>320.0</td>\n",
       "      <td>D</td>\n",
       "      <td>H</td>\n",
       "      <td>H</td>\n",
       "      <td>C</td>\n",
       "      <td>B</td>\n",
       "      <td>A</td>\n",
       "      <td>NaN</td>\n",
       "      <td>A</td>\n",
       "    </tr>\n",
       "  </tbody>\n",
       "</table>\n",
       "<p>5 rows × 47 columns</p>\n",
       "</div>"
      ],
      "text/plain": [
       "                               NU_INSCRICAO  CO_UF_RESIDENCIA  \\\n",
       "0  73ff9fcc02f0a99919906c942c2e1a1042cdcf98                41   \n",
       "1  71a95f9f1b91a82c65ad94abbdf9f54e6066f968                21   \n",
       "2  b38a03232f43b11c9d0788abaf060f7366053b6d                23   \n",
       "3  70b682d9a3636be23f6120fa9d6b164eb3c6002d                15   \n",
       "4  715494628a50142ce8cb17191cfe6d0f3cae0934                41   \n",
       "\n",
       "  SG_UF_RESIDENCIA  NU_IDADE TP_SEXO  TP_COR_RACA  TP_NACIONALIDADE  \\\n",
       "0               PR        22       F            3                 1   \n",
       "1               MA        26       F            3                 1   \n",
       "2               CE        21       M            1                 1   \n",
       "3               PA        27       F            3                 1   \n",
       "4               PR        18       M            1                 1   \n",
       "\n",
       "   TP_ST_CONCLUSAO  TP_ANO_CONCLUIU  TP_ESCOLA  ...  NU_NOTA_COMP5  \\\n",
       "0                1                5          1  ...           40.0   \n",
       "1                1                8          1  ...          100.0   \n",
       "2                2                0          2  ...           80.0   \n",
       "3                1                8          1  ...            NaN   \n",
       "4                2                0          2  ...            0.0   \n",
       "\n",
       "   NU_NOTA_REDACAO  Q001  Q002  Q006  Q024  Q025  Q026  Q027  Q047  \n",
       "0            420.0     B     A     C     A     A     C     C     A  \n",
       "1            580.0     E     B     C     B     B     B     F     A  \n",
       "2            320.0     E     E     D     B     B     A   NaN     A  \n",
       "3              NaN     H     E     G     B     B     A   NaN     A  \n",
       "4            320.0     D     H     H     C     B     A   NaN     A  \n",
       "\n",
       "[5 rows x 47 columns]"
      ]
     },
     "execution_count": 17,
     "metadata": {},
     "output_type": "execute_result"
    }
   ],
   "source": [
    "test_data.head()"
   ]
  },
  {
   "cell_type": "markdown",
   "metadata": {},
   "source": [
    "Como podemos notar ao comparar ambos datasets, apenas um subconjunto de variaveis estao disponiveis no arquivo test.csv. Assim, este subconjunto de variaveis explicatives deve ser o feature set base de nossa modelagem."
   ]
  },
  {
   "cell_type": "code",
   "execution_count": 18,
   "metadata": {
    "ExecuteTime": {
     "end_time": "2020-05-26T17:53:01.026835Z",
     "start_time": "2020-05-26T17:53:00.995108Z"
    }
   },
   "outputs": [],
   "source": [
    "INITIAL_FEATURES = test_data.columns"
   ]
  },
  {
   "cell_type": "code",
   "execution_count": 19,
   "metadata": {
    "ExecuteTime": {
     "end_time": "2020-05-26T17:53:04.044959Z",
     "start_time": "2020-05-26T17:53:04.011538Z"
    }
   },
   "outputs": [
    {
     "data": {
      "text/plain": [
       "Index(['NU_INSCRICAO', 'CO_UF_RESIDENCIA', 'SG_UF_RESIDENCIA', 'NU_IDADE',\n",
       "       'TP_SEXO', 'TP_COR_RACA', 'TP_NACIONALIDADE', 'TP_ST_CONCLUSAO',\n",
       "       'TP_ANO_CONCLUIU', 'TP_ESCOLA', 'TP_ENSINO', 'IN_TREINEIRO',\n",
       "       'TP_DEPENDENCIA_ADM_ESC', 'IN_BAIXA_VISAO', 'IN_CEGUEIRA', 'IN_SURDEZ',\n",
       "       'IN_DISLEXIA', 'IN_DISCALCULIA', 'IN_SABATISTA', 'IN_GESTANTE',\n",
       "       'IN_IDOSO', 'TP_PRESENCA_CN', 'TP_PRESENCA_CH', 'TP_PRESENCA_LC',\n",
       "       'CO_PROVA_CN', 'CO_PROVA_CH', 'CO_PROVA_LC', 'CO_PROVA_MT',\n",
       "       'NU_NOTA_CN', 'NU_NOTA_CH', 'NU_NOTA_LC', 'TP_LINGUA',\n",
       "       'TP_STATUS_REDACAO', 'NU_NOTA_COMP1', 'NU_NOTA_COMP2', 'NU_NOTA_COMP3',\n",
       "       'NU_NOTA_COMP4', 'NU_NOTA_COMP5', 'NU_NOTA_REDACAO', 'Q001', 'Q002',\n",
       "       'Q006', 'Q024', 'Q025', 'Q026', 'Q027', 'Q047'],\n",
       "      dtype='object')"
      ]
     },
     "execution_count": 19,
     "metadata": {},
     "output_type": "execute_result"
    }
   ],
   "source": [
    "INITIAL_FEATURES"
   ]
  },
  {
   "cell_type": "markdown",
   "metadata": {},
   "source": [
    "__Filtering Train Data__"
   ]
  },
  {
   "cell_type": "code",
   "execution_count": 31,
   "metadata": {
    "ExecuteTime": {
     "end_time": "2020-05-26T18:04:28.666905Z",
     "start_time": "2020-05-26T18:04:28.624482Z"
    }
   },
   "outputs": [],
   "source": [
    "train_features = train_data[INITIAL_FEATURES]\n",
    "train_target = train_data[target]\n",
    "test_features = test_data[INITIAL_FEATURES]\n",
    "df = train_features.copy()\n",
    "df[target] = train_target"
   ]
  },
  {
   "cell_type": "code",
   "execution_count": 32,
   "metadata": {
    "ExecuteTime": {
     "end_time": "2020-05-26T18:04:29.214829Z",
     "start_time": "2020-05-26T18:04:29.182320Z"
    }
   },
   "outputs": [],
   "source": [
    "assert len(train_features.columns) == len(test_features.columns)\n",
    "assert len(train_features) == len(train_target)"
   ]
  },
  {
   "cell_type": "markdown",
   "metadata": {},
   "source": [
    "<div style=\"background-color:#ddeedd;padding:20px;\">\n",
    "<h2> Univariate Feature Analysis </h2>\n",
    "</div>\n"
   ]
  },
  {
   "cell_type": "code",
   "execution_count": 39,
   "metadata": {
    "ExecuteTime": {
     "end_time": "2020-05-26T18:13:09.072426Z",
     "start_time": "2020-05-26T18:13:09.039710Z"
    }
   },
   "outputs": [],
   "source": [
    "CAT_DICT = {}"
   ]
  },
  {
   "cell_type": "code",
   "execution_count": 45,
   "metadata": {
    "ExecuteTime": {
     "end_time": "2020-05-26T18:14:34.535372Z",
     "start_time": "2020-05-26T18:14:34.502289Z"
    }
   },
   "outputs": [
    {
     "data": {
      "text/plain": [
       "{'CO_UF_RESIDENCIA': 35}"
      ]
     },
     "execution_count": 45,
     "metadata": {},
     "output_type": "execute_result"
    }
   ],
   "source": [
    "CAT_DICT"
   ]
  },
  {
   "cell_type": "markdown",
   "metadata": {},
   "source": [
    "<div style=\"background-color:#fff2df;padding: 10px;\">\n",
    "<h4> CO_UF_RESIDENCIA </h4>\n",
    "</div>\n",
    "\n",
    "> Código da Unidade da Federação de residência\n",
    "- Criar uma tabela com as médias da nota MAT ENEM por codigo de UNIDADE"
   ]
  },
  {
   "cell_type": "code",
   "execution_count": 55,
   "metadata": {
    "ExecuteTime": {
     "end_time": "2020-05-26T19:02:24.683213Z",
     "start_time": "2020-05-26T19:02:24.644121Z"
    }
   },
   "outputs": [
    {
     "data": {
      "text/html": [
       "<div>\n",
       "<style scoped>\n",
       "    .dataframe tbody tr th:only-of-type {\n",
       "        vertical-align: middle;\n",
       "    }\n",
       "\n",
       "    .dataframe tbody tr th {\n",
       "        vertical-align: top;\n",
       "    }\n",
       "\n",
       "    .dataframe thead th {\n",
       "        text-align: right;\n",
       "    }\n",
       "</style>\n",
       "<table border=\"1\" class=\"dataframe\">\n",
       "  <thead>\n",
       "    <tr style=\"text-align: right;\">\n",
       "      <th></th>\n",
       "      <th>NU_NOTA_MT</th>\n",
       "    </tr>\n",
       "    <tr>\n",
       "      <th>CO_PROVA_CN</th>\n",
       "      <th></th>\n",
       "    </tr>\n",
       "  </thead>\n",
       "  <tbody>\n",
       "    <tr>\n",
       "      <th>03b1fba5c1ebbc47988cd303b08982cfb2aa9cf2</th>\n",
       "      <td>508.065517</td>\n",
       "    </tr>\n",
       "    <tr>\n",
       "      <th>16f84b7b3d2aeaff7d2f01297e6b3d0e25c77bb2</th>\n",
       "      <td>483.477433</td>\n",
       "    </tr>\n",
       "    <tr>\n",
       "      <th>1bcdece8fb1b952552b319e4e5512bbcf540e338</th>\n",
       "      <td>466.920312</td>\n",
       "    </tr>\n",
       "    <tr>\n",
       "      <th>2d22ac1d42e6187f09ee6c578df187a760123ccf</th>\n",
       "      <td>440.227778</td>\n",
       "    </tr>\n",
       "    <tr>\n",
       "      <th>66b1dad288e13be0992bae01e81f71eca1c6e8a6</th>\n",
       "      <td>479.231487</td>\n",
       "    </tr>\n",
       "    <tr>\n",
       "      <th>69ed2ddcb151cfebe3d2ae372055335ac7c8c144</th>\n",
       "      <td>475.779661</td>\n",
       "    </tr>\n",
       "    <tr>\n",
       "      <th>a27a1efea095c8a973496f0b57a24ac6775d95b0</th>\n",
       "      <td>375.100000</td>\n",
       "    </tr>\n",
       "    <tr>\n",
       "      <th>b9b06ce8c319a3df2158ea3d0aef0f7d3eecaed7</th>\n",
       "      <td>480.793960</td>\n",
       "    </tr>\n",
       "    <tr>\n",
       "      <th>c8328ebc6f3238e06076c481bc1b82b8301e7a3f</th>\n",
       "      <td>487.395065</td>\n",
       "    </tr>\n",
       "    <tr>\n",
       "      <th>c87a85497686b3e7b3765f84a2ca95256f0f66aa</th>\n",
       "      <td>471.526154</td>\n",
       "    </tr>\n",
       "  </tbody>\n",
       "</table>\n",
       "</div>"
      ],
      "text/plain": [
       "                                          NU_NOTA_MT\n",
       "CO_PROVA_CN                                         \n",
       "03b1fba5c1ebbc47988cd303b08982cfb2aa9cf2  508.065517\n",
       "16f84b7b3d2aeaff7d2f01297e6b3d0e25c77bb2  483.477433\n",
       "1bcdece8fb1b952552b319e4e5512bbcf540e338  466.920312\n",
       "2d22ac1d42e6187f09ee6c578df187a760123ccf  440.227778\n",
       "66b1dad288e13be0992bae01e81f71eca1c6e8a6  479.231487\n",
       "69ed2ddcb151cfebe3d2ae372055335ac7c8c144  475.779661\n",
       "a27a1efea095c8a973496f0b57a24ac6775d95b0  375.100000\n",
       "b9b06ce8c319a3df2158ea3d0aef0f7d3eecaed7  480.793960\n",
       "c8328ebc6f3238e06076c481bc1b82b8301e7a3f  487.395065\n",
       "c87a85497686b3e7b3765f84a2ca95256f0f66aa  471.526154"
      ]
     },
     "execution_count": 55,
     "metadata": {},
     "output_type": "execute_result"
    }
   ],
   "source": [
    "var = 'CO_PROVA_CN'\n",
    "tmp = pd.DataFrame(df.groupby(var)[target].mean())\n",
    "tmp"
   ]
  },
  {
   "cell_type": "code",
   "execution_count": null,
   "metadata": {},
   "outputs": [],
   "source": []
  }
 ],
 "metadata": {
  "kernelspec": {
   "display_name": "Python 3.7.3 64-bit ('base': conda)",
   "language": "python",
   "name": "python37364bitbaseconda95ecdeae6d2949459d5acea5c79cf8a8"
  },
  "language_info": {
   "codemirror_mode": {
    "name": "ipython",
    "version": 3
   },
   "file_extension": ".py",
   "mimetype": "text/x-python",
   "name": "python",
   "nbconvert_exporter": "python",
   "pygments_lexer": "ipython3",
   "version": "3.7.6"
  }
 },
 "nbformat": 4,
 "nbformat_minor": 4
}
